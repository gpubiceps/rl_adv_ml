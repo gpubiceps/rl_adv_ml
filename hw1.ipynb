{
 "cells": [
  {
   "cell_type": "markdown",
   "id": "316e7035",
   "metadata": {},
   "source": [
    "# RL and Advanced DL: Домашнее задание 1\n",
    "\n",
    "_Студент MADE ML-32 Кругликов Александр_"
   ]
  },
  {
   "cell_type": "markdown",
   "id": "5c0a2e28",
   "metadata": {},
   "source": [
    "### Часть I, с блекджеком и стратегиями"
   ]
  },
  {
   "cell_type": "markdown",
   "id": "10aa6462",
   "metadata": {},
   "source": [
    "###  Задание 1.\t\n",
    "_Рассмотрим очень простую стратегию: говорить stand, если у нас на руках комбинация в 19, 20 или 21 очко, во всех остальных случаях говорить hit. Используйте методы Монте-Карло, чтобы оценить выигрыш от этой стратегии._"
   ]
  },
  {
   "cell_type": "code",
   "execution_count": 34,
   "id": "cfbfb86f",
   "metadata": {},
   "outputs": [],
   "source": [
    "from collections import defaultdict\n",
    "\n",
    "import gym\n",
    "from gym import spaces\n",
    "from gym.utils import seeding\n",
    "import numpy as np\n",
    "from tqdm.notebook import tqdm\n",
    "import matplotlib.pyplot as plt\n",
    "import seaborn as sns"
   ]
  },
  {
   "cell_type": "code",
   "execution_count": 83,
   "id": "d577b30a",
   "metadata": {},
   "outputs": [],
   "source": [
    "env = gym.make('Blackjack-v0', natural=True)"
   ]
  },
  {
   "cell_type": "code",
   "execution_count": 8,
   "id": "82a1c865",
   "metadata": {},
   "outputs": [],
   "source": [
    "def simple_policy(val):\n",
    "    return 0 if val >= 19 else 1\n",
    "\n",
    "\n",
    "def run_simple_policy(env, n_steps):\n",
    "    \"\"\"\n",
    "    Params\n",
    "    ------\n",
    "    env:\n",
    "        Среда\n",
    "    n_steps:\n",
    "        Количество экспериментов\n",
    "    \"\"\"\n",
    "    rewards = []\n",
    "    for i in tqdm(range(n_steps)):\n",
    "        observation = env.reset()\n",
    "        while True:\n",
    "            action = simple_policy(observation[0])\n",
    "            observation, reward, done, info = env.step(action)\n",
    "            if done:\n",
    "                rewards.append(reward)\n",
    "                break\n",
    "                \n",
    "    return np.asarray(rewards)\n",
    "\n",
    "\n",
    "def mean_sum(array, n):\n",
    "    return np.cumsum(array) / np.arange(1, n + 1)\n",
    "\n",
    "\n",
    "def plot_rewards(rewards, n_steps):\n",
    "    plt.figure(figsize=(15, 6))\n",
    "    plt.plot(mean_sum(rewards, n_steps))\n",
    "    plt.xlabel(\"$N$\")\n",
    "    plt.ylabel(\"Mean Reward\")\n",
    "    plt.grid()\n",
    "    plt.show()\n",
    "    \n",
    "    \n",
    "def print_result(rewards, n_steps):\n",
    "    print(f\"\\nСредний ожидаемый выигрыш после {n_steps} игр: {np.mean(rewards)}\")"
   ]
  },
  {
   "cell_type": "code",
   "execution_count": 85,
   "id": "15827c6c",
   "metadata": {},
   "outputs": [
    {
     "data": {
      "application/vnd.jupyter.widget-view+json": {
       "model_id": "d60f2500f95647e7a56e713ee6a944d7",
       "version_major": 2,
       "version_minor": 0
      },
      "text/plain": [
       "  0%|          | 0/100000 [00:00<?, ?it/s]"
      ]
     },
     "metadata": {},
     "output_type": "display_data"
    }
   ],
   "source": [
    "n_steps = 100000\n",
    "rewards = run_simple_policy(env=env, n_steps=n_steps)"
   ]
  },
  {
   "cell_type": "code",
   "execution_count": 86,
   "id": "98ac41d1",
   "metadata": {},
   "outputs": [
    {
     "data": {
      "image/png": "[encoded data removed]",
      "text/plain": [
       "<Figure size 1080x432 with 1 Axes>"
      ]
     },
     "metadata": {
      "needs_background": "light"
     },
     "output_type": "display_data"
    },
    {
     "name": "stdout",
     "output_type": "stream",
     "text": [
      "\n",
      "Средний ожидаемый выигрыш после 100000 игр: -0.17717\n"
     ]
    }
   ],
   "source": [
    "plot_rewards(rewards, n_steps)\n",
    "print_result(rewards, n_steps)"
   ]
  },
  {
   "cell_type": "markdown",
   "id": "f41340e2",
   "metadata": {},
   "source": [
    "###  Задание 2, 3\n",
    "_Реализуйте метод обучения с подкреплением без модели (можно Q-обучение, но рекомендую попробовать и другие, например Monte Carlo control) для обучения стратегии в блекджеке, используя окружение BlackjackEnv из OpenAI Gym._\n",
    "\n",
    "\n",
    "_Сколько выигрывает казино у вашей стратегии? Нарисуйте графики среднего дохода вашего метода (усреднённого по крайней мере по 100000 раздач, а лучше больше) по ходу обучения. Попробуйте подобрать оптимальные гиперпараметры._"
   ]
  },
  {
   "cell_type": "code",
   "execution_count": 31,
   "id": "81e0aee4",
   "metadata": {},
   "outputs": [],
   "source": [
    "def run_policy(env, policy, n_steps):\n",
    "    \"\"\"\n",
    "    Params\n",
    "    ------\n",
    "    env:\n",
    "        Среда\n",
    "    policy:\n",
    "        Стратегия\n",
    "    n_steps:\n",
    "        Количество экспериментов\n",
    "    \"\"\"\n",
    "    rewards = []\n",
    "    for i in range(n_steps):\n",
    "        env.reset()\n",
    "        while True:\n",
    "            action = np.argmax(policy(env._get_obs()))\n",
    "            observation, reward, done, info = env.step(action)\n",
    "            if done:\n",
    "                rewards.append(reward)\n",
    "                break\n",
    "                \n",
    "    return np.asarray(rewards)"
   ]
  },
  {
   "cell_type": "code",
   "execution_count": 10,
   "id": "26956818",
   "metadata": {},
   "outputs": [],
   "source": [
    "def epsilon_greedy(env, Q, epsilon):\n",
    "    def policy(obs):\n",
    "        num_actions = env.action_space.n\n",
    "        probs = np.ones(num_actions) * epsilon / num_actions\n",
    "        best_action = np.argmax(Q[obs])\n",
    "        probs[best_action] = 1.0 - epsilon + (epsilon / num_actions)\n",
    "        return probs\n",
    "    return policy"
   ]
  },
  {
   "cell_type": "code",
   "execution_count": 11,
   "id": "2329790c",
   "metadata": {},
   "outputs": [],
   "source": [
    "def get_policy_by_mc_control(env, n_steps, gamma, epsilon):\n",
    "    returns_sum = defaultdict(float)\n",
    "    returns_count = defaultdict(float)\n",
    "    Q = defaultdict(lambda: np.zeros(env.action_space.n))\n",
    "    pol = epsilon_greedy(env, Q, epsilon)\n",
    "    for i in range(1, n_steps + 1):\n",
    "        episode = []\n",
    "        state = env.reset()\n",
    "        is_done = False\n",
    "        while not is_done:\n",
    "            probs = pol(state) \n",
    "            action = np.random.choice(np.arange(len(probs)), p = probs)\n",
    "            next_state, reward, is_done, _ = env.step(action)\n",
    "            episode.append((state, action, reward))\n",
    "            state = next_state\n",
    "\n",
    "        sa_in_episode = set([(tuple(x[0]), x[1]) for x in episode])\n",
    "        for state, action in sa_in_episode:\n",
    "            sa_pair = (state, action)\n",
    "            first_occurence_idx = next(i for i,x in enumerate(episode) if x[0] == state and x[1] == action)\n",
    "            G = sum([x[2] * (gamma ** i) for i, x in enumerate(episode[first_occurence_idx:])])\n",
    "            returns_sum[sa_pair] += G\n",
    "            returns_count[sa_pair] += 1.0\n",
    "            Q[state][action] = returns_sum[sa_pair] / returns_count[sa_pair]\n",
    "    return pol"
   ]
  },
  {
   "cell_type": "code",
   "execution_count": 12,
   "id": "96be4fbb",
   "metadata": {},
   "outputs": [],
   "source": [
    "def get_policy_by_q_learning(env, n_steps, gamma, epsilon, alpha):\n",
    "    Q = defaultdict(lambda: np.zeros(env.action_space.n))\n",
    "    for i in range(1, n_steps + 1):\n",
    "        eps = max(1.0 / i, epsilon)\n",
    "        curr_state = env.reset()\n",
    "        while True:\n",
    "            probs = epsilon_greedy(env, Q, eps)(curr_state)\n",
    "            curr_act = np.random.choice(np.arange(len(probs)), p=probs)\n",
    "            next_state, reward, done, _ = env.step(curr_act)\n",
    "            if not done: \n",
    "                next_act = np.argmax(Q[next_state]) \n",
    "                td_target = reward + gamma * Q[next_state][next_act]\n",
    "                td_error = td_target - Q[curr_state][curr_act]\n",
    "                Q[curr_state][curr_act] = Q[curr_state][curr_act] + alpha * td_error\n",
    "                curr_state = next_state\n",
    "            if done: \n",
    "                td_error = reward - Q[curr_state][curr_act]\n",
    "                Q[curr_state][curr_act] = Q[curr_state][curr_act] + alpha * td_error\n",
    "                break\n",
    "    pol = epsilon_greedy(env, Q, eps)\n",
    "    return pol"
   ]
  },
  {
   "cell_type": "markdown",
   "id": "3b6b25b2",
   "metadata": {},
   "source": [
    "### On-policy Monte Carlo control"
   ]
  },
  {
   "cell_type": "code",
   "execution_count": 110,
   "id": "54c0acc9",
   "metadata": {},
   "outputs": [
    {
     "data": {
      "application/vnd.jupyter.widget-view+json": {
       "model_id": "77821d557c1240a88a8137b092b3e24b",
       "version_major": 2,
       "version_minor": 0
      },
      "text/plain": [
       "  0%|          | 0/100000 [00:00<?, ?it/s]"
      ]
     },
     "metadata": {},
     "output_type": "display_data"
    },
    {
     "data": {
      "image/png": "[encoded data removed]",
      "text/plain": [
       "<Figure size 1080x432 with 1 Axes>"
      ]
     },
     "metadata": {
      "needs_background": "light"
     },
     "output_type": "display_data"
    },
    {
     "name": "stdout",
     "output_type": "stream",
     "text": [
      "\n",
      "Средний ожидаемый выигрыш после 100000 игр: -0.03471\n"
     ]
    }
   ],
   "source": [
    "n_steps = 100000\n",
    "gamma = 0.9\n",
    "epsilon = 0.1\n",
    "mc_policy = get_policy_by_mc_control(env, n_steps, gamma, epsilon)\n",
    "\n",
    "mc_policy_reward = run_policy(env, mc_policy, n_steps)\n",
    "\n",
    "plot_rewards(mc_policy_reward, n_steps)\n",
    "print_result(mc_policy_reward, n_steps)"
   ]
  },
  {
   "cell_type": "markdown",
   "id": "5bda6772",
   "metadata": {},
   "source": [
    "### Q-learning"
   ]
  },
  {
   "cell_type": "code",
   "execution_count": 111,
   "id": "47502ce1",
   "metadata": {},
   "outputs": [
    {
     "data": {
      "application/vnd.jupyter.widget-view+json": {
       "model_id": "871795b081d84eea9aff39ed13c8d925",
       "version_major": 2,
       "version_minor": 0
      },
      "text/plain": [
       "  0%|          | 0/100000 [00:00<?, ?it/s]"
      ]
     },
     "metadata": {},
     "output_type": "display_data"
    },
    {
     "data": {
      "image/png": "[encoded data removed]",
      "text/plain": [
       "<Figure size 1080x432 with 1 Axes>"
      ]
     },
     "metadata": {
      "needs_background": "light"
     },
     "output_type": "display_data"
    },
    {
     "name": "stdout",
     "output_type": "stream",
     "text": [
      "\n",
      "Средний ожидаемый выигрыш после 100000 игр: -0.065105\n"
     ]
    }
   ],
   "source": [
    "n_steps = 100000\n",
    "gamma = 0.95\n",
    "epsilon = 0.1\n",
    "alpha = 0.001\n",
    "q_policy  = get_policy_by_q_learning(env, n_steps, gamma, epsilon, alpha)\n",
    "\n",
    "q_policy_reward = run_policy(env, q_policy, n_steps)\n",
    "\n",
    "plot_rewards(q_policy_reward, n_steps)\n",
    "print_result(q_policy_reward, n_steps)"
   ]
  },
  {
   "cell_type": "markdown",
   "id": "dc3cc705",
   "metadata": {},
   "source": [
    "- В результате подбора гиперпараметров Монте-Карло показал лучший результат: -0.03471\n",
    "- Результат Q-learning: -0.065105\n",
    "- Казино обыграть не удается"
   ]
  },
  {
   "cell_type": "markdown",
   "id": "e2663741",
   "metadata": {},
   "source": [
    "### Часть II, удвоенная"
   ]
  },
  {
   "cell_type": "markdown",
   "id": "93de6a8e",
   "metadata": {},
   "source": [
    "###  Задание 4.\t\n",
    "_Реализуйте новый вариант блекджека на основе окружения BlackjackEnv из OpenAI Gym, в котором разрешено удвоение ставки._"
   ]
  },
  {
   "cell_type": "code",
   "execution_count": 5,
   "id": "7f2cae43",
   "metadata": {},
   "outputs": [],
   "source": [
    "def cmp(a, b):\n",
    "    return float(a > b) - float(a < b)\n",
    "\n",
    "# 1 = Ace, 2-10 = Number cards, Jack/Queen/King = 10\n",
    "deck = [1, 2, 3, 4, 5, 6, 7, 8, 9, 10, 10, 10, 10]\n",
    "\n",
    "def draw_card(np_random):\n",
    "    return int(np_random.choice(deck))\n",
    "\n",
    "def draw_hand(np_random):\n",
    "    return [draw_card(np_random), draw_card(np_random)]\n",
    "\n",
    "def usable_ace(hand):  # Does this hand have a usable ace?\n",
    "    return 1 in hand and sum(hand) + 10 <= 21\n",
    "\n",
    "def sum_hand(hand):  # Return current hand total\n",
    "    if usable_ace(hand):\n",
    "        return sum(hand) + 10\n",
    "    return sum(hand)\n",
    "\n",
    "def is_bust(hand):  # Is this hand a bust?\n",
    "    return sum_hand(hand) > 21\n",
    "\n",
    "def score(hand):  # What is the score of this hand (0 if bust)\n",
    "    return 0 if is_bust(hand) else sum_hand(hand)\n",
    "\n",
    "def is_natural(hand):  # Is this hand a natural blackjack?\n",
    "    return sorted(hand) == [1, 10]\n",
    "\n",
    "class CustomBlackjackEnv(gym.Env):\n",
    "    def __init__(self, natural=False):\n",
    "        self.action_space = spaces.Discrete(3) # add third action\n",
    "        self.observation_space = spaces.Tuple((\n",
    "            spaces.Discrete(32),\n",
    "            spaces.Discrete(11),\n",
    "            spaces.Discrete(3)))\n",
    "        self.seed()\n",
    "\n",
    "        # Flag to payout 1.5 on a \"natural\" blackjack win, like casino rules\n",
    "        # Ref: http://www.bicyclecards.com/how-to-play/blackjack/\n",
    "        self.natural = natural\n",
    "        # Start the first game\n",
    "        self.reset()\n",
    "\n",
    "    def seed(self, seed=None):\n",
    "        self.np_random, seed = seeding.np_random(seed)\n",
    "        return [seed]\n",
    "\n",
    "    def step(self, action):\n",
    "        assert self.action_space.contains(action)\n",
    "        if action == 1:  # hit: add a card to players hand and return\n",
    "            self.player.append(draw_card(self.np_random))\n",
    "            if is_bust(self.player):\n",
    "                done = True\n",
    "                reward = -1.\n",
    "            else:\n",
    "                done = False\n",
    "                reward = 0.\n",
    "        elif action == 0:  # stick: play out the dealers hand, and score\n",
    "            done = True\n",
    "            while sum_hand(self.dealer) < 17:\n",
    "                self.dealer.append(draw_card(self.np_random))\n",
    "            reward = cmp(score(self.player), score(self.dealer))\n",
    "            if self.natural and is_natural(self.player) and reward == 1.:\n",
    "                reward = 1.5\n",
    "        elif action == 2:  # double action\n",
    "            self.player.append(draw_card(self.np_random))\n",
    "            done = True\n",
    "            while sum_hand(self.dealer) < 17:\n",
    "                self.dealer.append(draw_card(self.np_random))\n",
    "            reward = cmp(score(self.player), score(self.dealer))\n",
    "            if self.natural and is_natural(self.player) and reward == 1.:\n",
    "                reward = 1.5\n",
    "            reward *= 2 # double reward\n",
    "        return self._get_obs(), reward, done, {}\n",
    "\n",
    "    def _get_obs(self):\n",
    "        return (sum_hand(self.player), self.dealer[0], usable_ace(self.player))\n",
    "\n",
    "    def reset(self):\n",
    "        self.dealer = draw_hand(self.np_random)\n",
    "        self.player = draw_hand(self.np_random)\n",
    "        return self._get_obs()\n",
    "    \n",
    "    def show_cards(self):\n",
    "        return self.player"
   ]
  },
  {
   "cell_type": "markdown",
   "id": "0e63de66",
   "metadata": {},
   "source": [
    "###  Задание 5.\t\n",
    "_Реализуйте метод обучения с подкреплением без модели для этого варианта, постройте графики, аналогичные п.2._"
   ]
  },
  {
   "cell_type": "code",
   "execution_count": 6,
   "id": "b5a8d4ed",
   "metadata": {},
   "outputs": [],
   "source": [
    "env = CustomBlackjackEnv(natural=True)"
   ]
  },
  {
   "cell_type": "markdown",
   "id": "4979fc4d",
   "metadata": {},
   "source": [
    "### On-policy Monte Carlo control"
   ]
  },
  {
   "cell_type": "code",
   "execution_count": 19,
   "id": "56c8b91d",
   "metadata": {},
   "outputs": [
    {
     "data": {
      "application/vnd.jupyter.widget-view+json": {
       "model_id": "",
       "version_major": 2,
       "version_minor": 0
      },
      "text/plain": [
       "  0%|          | 0/100000 [00:00<?, ?it/s]"
      ]
     },
     "metadata": {},
     "output_type": "display_data"
    },
    {
     "data": {
      "image/png": "[encoded data removed]",
      "text/plain": [
       "<Figure size 1080x432 with 1 Axes>"
      ]
     },
     "metadata": {
      "needs_background": "light"
     },
     "output_type": "display_data"
    },
    {
     "name": "stdout",
     "output_type": "stream",
     "text": [
      "\n",
      "Средний ожидаемый выигрыш после 100000 игр: -0.034595\n"
     ]
    }
   ],
   "source": [
    "n_steps = 100000\n",
    "gamma = 0.9\n",
    "epsilon = 0.1\n",
    "mc_policy = get_policy_by_mc_control(env, n_steps, gamma, epsilon)\n",
    "\n",
    "mc_policy_reward = run_policy(env, mc_policy, n_steps)\n",
    "\n",
    "plot_rewards(mc_policy_reward, n_steps)\n",
    "print_result(mc_policy_reward, n_steps)"
   ]
  },
  {
   "cell_type": "markdown",
   "id": "4bd897e9",
   "metadata": {},
   "source": [
    "### Q-learning"
   ]
  },
  {
   "cell_type": "code",
   "execution_count": 14,
   "id": "4ed4b586",
   "metadata": {},
   "outputs": [
    {
     "data": {
      "application/vnd.jupyter.widget-view+json": {
       "model_id": "",
       "version_major": 2,
       "version_minor": 0
      },
      "text/plain": [
       "  0%|          | 0/100000 [00:00<?, ?it/s]"
      ]
     },
     "metadata": {},
     "output_type": "display_data"
    },
    {
     "data": {
      "image/png": "[encoded data removed]",
      "text/plain": [
       "<Figure size 1080x432 with 1 Axes>"
      ]
     },
     "metadata": {
      "needs_background": "light"
     },
     "output_type": "display_data"
    },
    {
     "name": "stdout",
     "output_type": "stream",
     "text": [
      "\n",
      "Средний ожидаемый выигрыш после 100000 игр: -0.07181\n"
     ]
    }
   ],
   "source": [
    "n_steps = 100000\n",
    "gamma = 0.95\n",
    "epsilon = 0.1\n",
    "alpha = 0.001\n",
    "q_policy  = get_policy_by_q_learning(env, n_steps, gamma, epsilon, alpha)\n",
    "\n",
    "q_policy_reward = run_policy(env, q_policy, n_steps)\n",
    "\n",
    "plot_rewards(q_policy_reward, n_steps)\n",
    "print_result(q_policy_reward, n_steps)"
   ]
  },
  {
   "cell_type": "markdown",
   "id": "dc44b621",
   "metadata": {},
   "source": [
    "Подберем параметры для Монте-Карло"
   ]
  },
  {
   "cell_type": "code",
   "execution_count": 32,
   "id": "344fc259",
   "metadata": {},
   "outputs": [],
   "source": [
    "def grid_search(env, n_steps):\n",
    "    result = np.zeros(shape=(5, 5))\n",
    "    gamma = [0.8, 0.85, 0.9, 0.95, 1]\n",
    "    epsilon = [0.05, 0.1, 0.15, 0.2, 0.25]\n",
    "    \n",
    "    for i in tqdm(range(len(gamma))):\n",
    "        for j in range(len(epsilon)):\n",
    "            mc_policy = get_policy_by_mc_control(env, n_steps, gamma=gamma[i], epsilon=epsilon[j])\n",
    "            mc_policy_reward = run_policy(env, mc_policy, n_steps)\n",
    "            result[i, j] = np.mean(mc_policy_reward)\n",
    "            \n",
    "    best_gamma_idx, best_epsilon_idx = np.unravel_index(np.argmax(result), result.shape)\n",
    "    best_gamma = gamma[best_gamma_idx]\n",
    "    best_epsilon = epsilon[best_epsilon_idx]\n",
    "    best_reward = result[best_gamma_idx, best_epsilon_idx]\n",
    "    return result, best_reward, best_gamma, best_epsilon"
   ]
  },
  {
   "cell_type": "code",
   "execution_count": 33,
   "id": "a5db48da",
   "metadata": {
    "scrolled": true
   },
   "outputs": [
    {
     "data": {
      "application/vnd.jupyter.widget-view+json": {
       "model_id": "",
       "version_major": 2,
       "version_minor": 0
      },
      "text/plain": [
       "  0%|          | 0/5 [00:00<?, ?it/s]"
      ]
     },
     "metadata": {},
     "output_type": "display_data"
    }
   ],
   "source": [
    "n_steps = 100000\n",
    "result, best_reward, best_gamma, best_epsilon = grid_search(env, n_steps)"
   ]
  },
  {
   "cell_type": "code",
   "execution_count": 36,
   "id": "dc557b32",
   "metadata": {},
   "outputs": [
    {
     "name": "stdout",
     "output_type": "stream",
     "text": [
      "best_gamma: 0.95, best_epsilon: 0.15\n"
     ]
    }
   ],
   "source": [
    "print(f\"best_gamma: {best_gamma}, best_epsilon: {best_epsilon}\")"
   ]
  },
  {
   "cell_type": "code",
   "execution_count": 38,
   "id": "bb3f4bf4",
   "metadata": {},
   "outputs": [
    {
     "data": {
      "image/png": "[encoded data removed]",
      "text/plain": [
       "<Figure size 432x288 with 2 Axes>"
      ]
     },
     "metadata": {
      "needs_background": "light"
     },
     "output_type": "display_data"
    }
   ],
   "source": [
    "ax = sns.heatmap(result, annot=True, cmap=\"viridis\")\n",
    "ax.set(xlabel=\"epsilon\", ylabel=\"gamma\")\n",
    "ax.set_xticklabels([0.05, 0.1, 0.15, 0.2, 0.25])\n",
    "ax.set_yticklabels([0.8, 0.85, 0.9, 0.95, 1])\n",
    "plt.show()"
   ]
  },
  {
   "cell_type": "markdown",
   "id": "d3802509",
   "metadata": {},
   "source": [
    "Запустим на лучших параметрах"
   ]
  },
  {
   "cell_type": "code",
   "execution_count": 39,
   "id": "c3fd0bbc",
   "metadata": {},
   "outputs": [
    {
     "data": {
      "image/png": "[encoded data removed]",
      "text/plain": [
       "<Figure size 1080x432 with 1 Axes>"
      ]
     },
     "metadata": {
      "needs_background": "light"
     },
     "output_type": "display_data"
    },
    {
     "name": "stdout",
     "output_type": "stream",
     "text": [
      "\n",
      "Средний ожидаемый выигрыш после 300000 игр: -0.026828333333333333\n"
     ]
    }
   ],
   "source": [
    "n_steps = 300000\n",
    "gamma = 0.95\n",
    "epsilon = 0.15\n",
    "mc_policy = get_policy_by_mc_control(env, n_steps, gamma, epsilon)\n",
    "\n",
    "mc_policy_reward = run_policy(env, mc_policy, n_steps)\n",
    "\n",
    "plot_rewards(mc_policy_reward, n_steps)\n",
    "print_result(mc_policy_reward, n_steps)"
   ]
  },
  {
   "cell_type": "markdown",
   "id": "492dd806",
   "metadata": {},
   "source": [
    "- В бекджеке с удвоением Монте-Карло по прежнему показывает себя лучше с результатом на 100к итераций: -0.034595, против Q-learning: -0.07181\n",
    "- В результате подбора гиперпараметров и запуске 300к итераций, Монте-Карло показал: -0.026828\n",
    "- Мы все еще проигрываем казино"
   ]
  },
  {
   "cell_type": "markdown",
   "id": "f03da12e",
   "metadata": {},
   "source": [
    "### Часть III, в главной роли — Дастин Хоффман"
   ]
  },
  {
   "cell_type": "markdown",
   "id": "130bb5ff",
   "metadata": {},
   "source": [
    "###  Задание 6.\t\n",
    "_Реализуйте вариант окружения BlackjackEnv из предыдущей части (с удвоением), в котором игрок имеет возможность “считать карты” в колоде. Это можно сделать разными способами; возможно, вам поможет статья википедии о блекджеке (а возможно, и нет)._"
   ]
  },
  {
   "cell_type": "code",
   "execution_count": 54,
   "id": "a0f33788",
   "metadata": {},
   "outputs": [],
   "source": [
    "class HoffmanBlackjackEnv(gym.Env):\n",
    "    def __init__(self, natural=False):\n",
    "        self.action_space = spaces.Discrete(3)\n",
    "        self.observation_space = spaces.Tuple((\n",
    "            spaces.Discrete(32),\n",
    "            spaces.Discrete(11),\n",
    "            spaces.Discrete(3)))\n",
    "        self.seed()\n",
    "        # Flag to payout 1.5 on a \"natural\" blackjack win, like casino rules\n",
    "        # Ref: http://www.bicyclecards.com/how-to-play/blackjack/\n",
    "        self.natural = natural\n",
    "        self.const_deck = [1, 2, 3, 4, 5, 6, 7, 8, 9, 10, 10, 10, 10]\n",
    "        self.deck = self.const_deck * 4\n",
    "        self.plus_minus = {2: 1,\n",
    "                           3: 1,\n",
    "                           4: 1,\n",
    "                           5: 1,\n",
    "                           6: 1,\n",
    "                           7: 0,\n",
    "                           8: 0,\n",
    "                           9: 0,\n",
    "                           10: -1,\n",
    "                           1: -1}\n",
    "        self.reset()\n",
    "\n",
    "    def seed(self, seed=None):\n",
    "        self.np_random, seed = seeding.np_random(seed)\n",
    "        return [seed]\n",
    "    \n",
    "    def cards_count(self, deck):\n",
    "        return len(deck)\n",
    "\n",
    "    def step(self, action):\n",
    "        assert self.action_space.contains(action)\n",
    "        if action == 1:  # hit: add a card to players hand and return\n",
    "            self.player.append(self.draw_card(self.np_random))\n",
    "            if is_bust(self.player):\n",
    "                done = True\n",
    "                reward = -1.\n",
    "            else:\n",
    "                done = False\n",
    "                reward = 0.\n",
    "        elif action == 0:  # stick: play out the dealers hand, and score\n",
    "            done = True\n",
    "            while sum_hand(self.dealer) < 17:\n",
    "                self.dealer.append(self.draw_card(self.np_random))\n",
    "            reward = cmp(score(self.player), score(self.dealer))\n",
    "            if self.natural and is_natural(self.player) and reward == 1.:\n",
    "                reward = 1.5\n",
    "        elif action == 2:  # double action\n",
    "            self.player.append(self.draw_card(self.np_random))\n",
    "            done = True\n",
    "            while sum_hand(self.dealer) < 17:\n",
    "                self.dealer.append(self.draw_card(self.np_random))\n",
    "            reward = cmp(score(self.player), score(self.dealer))\n",
    "            if self.natural and is_natural(self.player) and reward == 1.:\n",
    "                reward = 1.5\n",
    "            reward *= 2\n",
    "        return self._get_obs(), reward, done, {}\n",
    "\n",
    "    def _get_obs(self):\n",
    "        return (sum_hand(self.player), self.dealer[0], usable_ace(self.player), \n",
    "                np.sum([self.plus_minus[card] for card in self.deck])) \n",
    "\n",
    "    def reset(self):\n",
    "        self.dealer = self.draw_hand(self.np_random)\n",
    "        self.player = self.draw_hand(self.np_random)\n",
    "        \n",
    "        if self.cards_count(self.deck) <= 15:\n",
    "            self.deck = self.const_deck * 4\n",
    "        return self._get_obs()\n",
    "    \n",
    "    def draw_card(self, np_random):\n",
    "        card = int(np_random.choice(self.deck))\n",
    "        self.deck.remove(card)\n",
    "        return card\n",
    "    \n",
    "    def draw_hand(self, np_random):\n",
    "        return [self.draw_card(np_random), self.draw_card(np_random)]\n",
    "    \n",
    "    def show_cards(self):\n",
    "        return self.player"
   ]
  },
  {
   "cell_type": "markdown",
   "id": "b9119ed3",
   "metadata": {},
   "source": [
    "###  Задание 7.\t\n",
    "_Реализуйте метод обучения с подкреплением без модели для этого варианта, постройте графики, аналогичные п.2._"
   ]
  },
  {
   "cell_type": "code",
   "execution_count": 55,
   "id": "d82bf49f",
   "metadata": {},
   "outputs": [],
   "source": [
    "env = HoffmanBlackjackEnv(natural=True)"
   ]
  },
  {
   "cell_type": "markdown",
   "id": "c416b26f",
   "metadata": {},
   "source": [
    "### On-policy Monte Carlo control"
   ]
  },
  {
   "cell_type": "code",
   "execution_count": 43,
   "id": "0402ee3a",
   "metadata": {},
   "outputs": [
    {
     "data": {
      "image/png": "[encoded data removed]",
      "text/plain": [
       "<Figure size 1080x432 with 1 Axes>"
      ]
     },
     "metadata": {
      "needs_background": "light"
     },
     "output_type": "display_data"
    },
    {
     "name": "stdout",
     "output_type": "stream",
     "text": [
      "\n",
      "Средний ожидаемый выигрыш после 100000 игр: -0.0802\n"
     ]
    }
   ],
   "source": [
    "n_steps = 100000\n",
    "gamma = 0.9\n",
    "epsilon = 0.1\n",
    "mc_policy = get_policy_by_mc_control(env, n_steps, gamma, epsilon)\n",
    "\n",
    "mc_policy_reward = run_policy(env, mc_policy, n_steps)\n",
    "\n",
    "plot_rewards(mc_policy_reward, n_steps)\n",
    "print_result(mc_policy_reward, n_steps)"
   ]
  },
  {
   "cell_type": "markdown",
   "id": "c6a59087",
   "metadata": {},
   "source": [
    "### Q-learning"
   ]
  },
  {
   "cell_type": "code",
   "execution_count": 44,
   "id": "6686d029",
   "metadata": {},
   "outputs": [
    {
     "data": {
      "image/png": "[encoded data removed]",
      "text/plain": [
       "<Figure size 1080x432 with 1 Axes>"
      ]
     },
     "metadata": {
      "needs_background": "light"
     },
     "output_type": "display_data"
    },
    {
     "name": "stdout",
     "output_type": "stream",
     "text": [
      "\n",
      "Средний ожидаемый выигрыш после 100000 игр: -0.094555\n"
     ]
    }
   ],
   "source": [
    "n_steps = 100000\n",
    "gamma = 0.95\n",
    "epsilon = 0.1\n",
    "alpha = 0.001\n",
    "q_policy  = get_policy_by_q_learning(env, n_steps, gamma, epsilon, alpha)\n",
    "\n",
    "q_policy_reward = run_policy(env, q_policy, n_steps)\n",
    "\n",
    "plot_rewards(q_policy_reward, n_steps)\n",
    "print_result(q_policy_reward, n_steps)"
   ]
  },
  {
   "cell_type": "markdown",
   "id": "de9420fc",
   "metadata": {},
   "source": [
    "Подберем параметры для Монте-Карло"
   ]
  },
  {
   "cell_type": "code",
   "execution_count": 45,
   "id": "707617c9",
   "metadata": {
    "scrolled": true
   },
   "outputs": [
    {
     "data": {
      "application/vnd.jupyter.widget-view+json": {
       "model_id": "8d9d1e884fd54872aab6ca6189eac416",
       "version_major": 2,
       "version_minor": 0
      },
      "text/plain": [
       "  0%|          | 0/5 [00:00<?, ?it/s]"
      ]
     },
     "metadata": {},
     "output_type": "display_data"
    }
   ],
   "source": [
    "n_steps = 100000\n",
    "result, best_reward, best_gamma, best_epsilon = grid_search(env, n_steps)"
   ]
  },
  {
   "cell_type": "code",
   "execution_count": 46,
   "id": "82abccbe",
   "metadata": {},
   "outputs": [
    {
     "name": "stdout",
     "output_type": "stream",
     "text": [
      "best_gamma: 0.8, best_epsilon: 0.2\n"
     ]
    }
   ],
   "source": [
    "print(f\"best_gamma: {best_gamma}, best_epsilon: {best_epsilon}\")"
   ]
  },
  {
   "cell_type": "code",
   "execution_count": 47,
   "id": "2c1672a9",
   "metadata": {},
   "outputs": [
    {
     "data": {
      "image/png": "[encoded data removed]",
      "text/plain": [
       "<Figure size 432x288 with 2 Axes>"
      ]
     },
     "metadata": {
      "needs_background": "light"
     },
     "output_type": "display_data"
    }
   ],
   "source": [
    "ax = sns.heatmap(result, annot=True, cmap=\"viridis\")\n",
    "ax.set(xlabel=\"epsilon\", ylabel=\"gamma\")\n",
    "ax.set_xticklabels([0.05, 0.1, 0.15, 0.2, 0.25])\n",
    "ax.set_yticklabels([0.8, 0.85, 0.9, 0.95, 1])\n",
    "plt.show()"
   ]
  },
  {
   "cell_type": "markdown",
   "id": "69f63839",
   "metadata": {},
   "source": [
    "Запустим на лучших параметрах"
   ]
  },
  {
   "cell_type": "code",
   "execution_count": 58,
   "id": "87daec40",
   "metadata": {},
   "outputs": [
    {
     "data": {
      "image/png": "[encoded data removed]",
      "text/plain": [
       "<Figure size 1080x432 with 1 Axes>"
      ]
     },
     "metadata": {
      "needs_background": "light"
     },
     "output_type": "display_data"
    },
    {
     "name": "stdout",
     "output_type": "stream",
     "text": [
      "\n",
      "Средний ожидаемый выигрыш после 300000 игр: -0.03885333333333333\n"
     ]
    }
   ],
   "source": [
    "n_steps = 300000\n",
    "gamma = 0.8\n",
    "epsilon = 0.2\n",
    "mc_policy = get_policy_by_mc_control(env, n_steps, gamma, epsilon)\n",
    "\n",
    "mc_policy_reward = run_policy(env, mc_policy, n_steps)\n",
    "\n",
    "plot_rewards(mc_policy_reward, n_steps)\n",
    "print_result(mc_policy_reward, n_steps)"
   ]
  },
  {
   "cell_type": "markdown",
   "id": "3a1c7e1b",
   "metadata": {},
   "source": [
    "- Подсчет карт не позволил улучшить результат при сравнении с игрой с удвоением, результат составил на 300к итерациях: -0.034595, против -0.038853\n",
    "- Лучший результат Монте-Карло на 300к итераций: -0.026828\n",
    "\n",
    "- Не везет в картах, повезет в любви"
   ]
  },
  {
   "cell_type": "code",
   "execution_count": null,
   "id": "2e601ee0",
   "metadata": {},
   "outputs": [],
   "source": []
  }
 ],
 "metadata": {
  "kernelspec": {
   "display_name": "Python 3 (ipykernel)",
   "language": "python",
   "name": "python3"
  },
  "language_info": {
   "codemirror_mode": {
    "name": "ipython",
    "version": 3
   },
   "file_extension": ".py",
   "mimetype": "text/x-python",
   "name": "python",
   "nbconvert_exporter": "python",
   "pygments_lexer": "ipython3",
   "version": "3.8.0"
  }
 },
 "nbformat": 4,
 "nbformat_minor": 5
}
